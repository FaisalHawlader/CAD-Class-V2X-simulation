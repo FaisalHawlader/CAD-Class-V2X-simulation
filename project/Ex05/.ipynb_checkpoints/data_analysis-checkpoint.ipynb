{
 "cells": [
  {
   "cell_type": "markdown",
   "id": "f32f914b",
   "metadata": {},
   "source": [
    "# import libraries"
   ]
  },
  {
   "cell_type": "markdown",
   "id": "cb3b7dff",
   "metadata": {},
   "source": [
    "Before we can start, you need to install the necessary software. First, make sure you have Python, either version 2.x or 3.x (they are slightly incompatible.) If you have both versions available on your system, we recommend version 3.x. You also need OMNeT++ version 5.2 or later.\n",
    "\n",
    "We will heavily rely on three Python packages: NumPy, Pandas, and Matplotlib. There are also optional packages that will be useful for certain tasks: SciPy, PivotTable.js. We also recommend that you install IPython and Jupyter, because they let you work much more comfortably than the bare Python shell."
   ]
  },
  {
   "cell_type": "markdown",
   "id": "7f67e533",
   "metadata": {},
   "source": [
    "these packages can be installed with pip, \n",
    "- pip install numpy pandas matplotlib"
   ]
  },
  {
   "cell_type": "markdown",
   "id": "3abb320c",
   "metadata": {},
   "source": [
    "In this tutorial, we'll work with the contents of the results imported from OMNeT++. The resutls directory available on Moodle contains result files produced by the OMNeT++ simulations. Note that when you will run the simulation as part of your project the output results will be differnt. \n",
    "\n",
    "As the first step, we use OMNeT++'s scavetool to convert scalar files to CSV. Run the following commands in the terminal (replace ~/omnetpp with the location of your OMNeT++ installation:"
   ]
  },
  {
   "cell_type": "markdown",
   "id": "6907745d",
   "metadata": {},
   "source": [
    "- cd ~/omnetpp/samples/resultfiles/aloha\n",
    "- scavetool x *.sca -o aloha.csv"
   ]
  },
  {
   "cell_type": "markdown",
   "id": "5db7b897",
   "metadata": {},
   "source": [
    "When the export is done, you can start Jupyter server with the following command:\n",
    "- jupyter notebook"
   ]
  },
  {
   "cell_type": "code",
   "execution_count": 136,
   "id": "44b7f856",
   "metadata": {},
   "outputs": [],
   "source": [
    "import pandas as pd\n",
    "import numpy as np\n",
    "import matplotlib.pyplot as plt\n",
    "#only needed for Jupyter\n",
    "%matplotlib inline "
   ]
  },
  {
   "cell_type": "markdown",
   "id": "1cdb1455",
   "metadata": {},
   "source": [
    "# import the contents of CSV file into a Pandas data frame"
   ]
  },
  {
   "cell_type": "code",
   "execution_count": 26,
   "id": "996c192a",
   "metadata": {},
   "outputs": [],
   "source": [
    "results = pd.read_csv('Sample_data.csv') #read_csv() function: import csv file into a data frame"
   ]
  },
  {
   "cell_type": "markdown",
   "id": "f58afdd7",
   "metadata": {},
   "source": [
    "# Veiw the structure of the dataFrame"
   ]
  },
  {
   "cell_type": "markdown",
   "id": "5fb244fe",
   "metadata": {},
   "source": [
    "You can view the contents of the data frame by simply entering the name. Alternatively, you can use the head() method of the data frame to view just the first few lines."
   ]
  },
  {
   "cell_type": "code",
   "execution_count": 137,
   "id": "0826c989",
   "metadata": {},
   "outputs": [
    {
     "data": {
      "text/html": [
       "<div>\n",
       "<style scoped>\n",
       "    .dataframe tbody tr th:only-of-type {\n",
       "        vertical-align: middle;\n",
       "    }\n",
       "\n",
       "    .dataframe tbody tr th {\n",
       "        vertical-align: top;\n",
       "    }\n",
       "\n",
       "    .dataframe thead th {\n",
       "        text-align: right;\n",
       "    }\n",
       "</style>\n",
       "<table border=\"1\" class=\"dataframe\">\n",
       "  <thead>\n",
       "    <tr style=\"text-align: right;\">\n",
       "      <th></th>\n",
       "      <th>type</th>\n",
       "      <th>sendTime</th>\n",
       "      <th>sender</th>\n",
       "      <th>senderPseudo</th>\n",
       "      <th>messageID</th>\n",
       "      <th>x_pos</th>\n",
       "      <th>y_pos</th>\n",
       "      <th>z_pos</th>\n",
       "      <th>x_pos_noise</th>\n",
       "      <th>y_pos_noise</th>\n",
       "      <th>...</th>\n",
       "      <th>z_acl</th>\n",
       "      <th>x_acl_noise</th>\n",
       "      <th>y_acl_noise</th>\n",
       "      <th>z_acl_noise</th>\n",
       "      <th>x_hed</th>\n",
       "      <th>y_hed</th>\n",
       "      <th>z_hed</th>\n",
       "      <th>hed_noise</th>\n",
       "      <th>hed_noise.1</th>\n",
       "      <th>hed_noise.2</th>\n",
       "    </tr>\n",
       "  </thead>\n",
       "  <tbody>\n",
       "    <tr>\n",
       "      <th>0</th>\n",
       "      <td>4</td>\n",
       "      <td>25202.602763</td>\n",
       "      <td>9</td>\n",
       "      <td>1092</td>\n",
       "      <td>4184</td>\n",
       "      <td>265.244033</td>\n",
       "      <td>50.634354</td>\n",
       "      <td>0.0</td>\n",
       "      <td>3.656680</td>\n",
       "      <td>3.616978</td>\n",
       "      <td>...</td>\n",
       "      <td>0.0</td>\n",
       "      <td>0.000946</td>\n",
       "      <td>0.000946</td>\n",
       "      <td>0.0</td>\n",
       "      <td>-0.102790</td>\n",
       "      <td>0.994703</td>\n",
       "      <td>0.0</td>\n",
       "      <td>7.994259</td>\n",
       "      <td>7.376133</td>\n",
       "      <td>0.0</td>\n",
       "    </tr>\n",
       "    <tr>\n",
       "      <th>1</th>\n",
       "      <td>4</td>\n",
       "      <td>25203.602763</td>\n",
       "      <td>9</td>\n",
       "      <td>1092</td>\n",
       "      <td>4194</td>\n",
       "      <td>264.885167</td>\n",
       "      <td>52.588125</td>\n",
       "      <td>0.0</td>\n",
       "      <td>3.508501</td>\n",
       "      <td>3.429000</td>\n",
       "      <td>...</td>\n",
       "      <td>0.0</td>\n",
       "      <td>0.000071</td>\n",
       "      <td>0.000690</td>\n",
       "      <td>0.0</td>\n",
       "      <td>-0.102790</td>\n",
       "      <td>0.994703</td>\n",
       "      <td>0.0</td>\n",
       "      <td>8.174877</td>\n",
       "      <td>5.941998</td>\n",
       "      <td>0.0</td>\n",
       "    </tr>\n",
       "    <tr>\n",
       "      <th>2</th>\n",
       "      <td>4</td>\n",
       "      <td>25204.602763</td>\n",
       "      <td>9</td>\n",
       "      <td>1092</td>\n",
       "      <td>4204</td>\n",
       "      <td>264.629254</td>\n",
       "      <td>56.495061</td>\n",
       "      <td>0.0</td>\n",
       "      <td>3.469352</td>\n",
       "      <td>3.576584</td>\n",
       "      <td>...</td>\n",
       "      <td>0.0</td>\n",
       "      <td>0.000211</td>\n",
       "      <td>0.002045</td>\n",
       "      <td>0.0</td>\n",
       "      <td>-0.107971</td>\n",
       "      <td>0.994154</td>\n",
       "      <td>0.0</td>\n",
       "      <td>8.360550</td>\n",
       "      <td>4.900224</td>\n",
       "      <td>0.0</td>\n",
       "    </tr>\n",
       "    <tr>\n",
       "      <th>3</th>\n",
       "      <td>4</td>\n",
       "      <td>25205.602763</td>\n",
       "      <td>9</td>\n",
       "      <td>1092</td>\n",
       "      <td>4214</td>\n",
       "      <td>263.961141</td>\n",
       "      <td>62.377989</td>\n",
       "      <td>0.0</td>\n",
       "      <td>3.590258</td>\n",
       "      <td>3.673011</td>\n",
       "      <td>...</td>\n",
       "      <td>0.0</td>\n",
       "      <td>0.000212</td>\n",
       "      <td>0.001824</td>\n",
       "      <td>0.0</td>\n",
       "      <td>-0.129025</td>\n",
       "      <td>0.991641</td>\n",
       "      <td>0.0</td>\n",
       "      <td>8.667087</td>\n",
       "      <td>4.035659</td>\n",
       "      <td>0.0</td>\n",
       "    </tr>\n",
       "    <tr>\n",
       "      <th>4</th>\n",
       "      <td>4</td>\n",
       "      <td>25206.602763</td>\n",
       "      <td>9</td>\n",
       "      <td>1092</td>\n",
       "      <td>4224</td>\n",
       "      <td>265.764984</td>\n",
       "      <td>70.670903</td>\n",
       "      <td>0.0</td>\n",
       "      <td>3.633979</td>\n",
       "      <td>3.377536</td>\n",
       "      <td>...</td>\n",
       "      <td>0.0</td>\n",
       "      <td>0.000341</td>\n",
       "      <td>0.001836</td>\n",
       "      <td>0.0</td>\n",
       "      <td>-0.152295</td>\n",
       "      <td>0.988335</td>\n",
       "      <td>0.0</td>\n",
       "      <td>9.089413</td>\n",
       "      <td>3.294954</td>\n",
       "      <td>0.0</td>\n",
       "    </tr>\n",
       "  </tbody>\n",
       "</table>\n",
       "<p>5 rows × 29 columns</p>\n",
       "</div>"
      ],
      "text/plain": [
       "   type      sendTime  sender  senderPseudo  messageID       x_pos      y_pos  \\\n",
       "0     4  25202.602763       9          1092       4184  265.244033  50.634354   \n",
       "1     4  25203.602763       9          1092       4194  264.885167  52.588125   \n",
       "2     4  25204.602763       9          1092       4204  264.629254  56.495061   \n",
       "3     4  25205.602763       9          1092       4214  263.961141  62.377989   \n",
       "4     4  25206.602763       9          1092       4224  265.764984  70.670903   \n",
       "\n",
       "   z_pos  x_pos_noise  y_pos_noise  ...  z_acl  x_acl_noise  y_acl_noise  \\\n",
       "0    0.0     3.656680     3.616978  ...    0.0     0.000946     0.000946   \n",
       "1    0.0     3.508501     3.429000  ...    0.0     0.000071     0.000690   \n",
       "2    0.0     3.469352     3.576584  ...    0.0     0.000211     0.002045   \n",
       "3    0.0     3.590258     3.673011  ...    0.0     0.000212     0.001824   \n",
       "4    0.0     3.633979     3.377536  ...    0.0     0.000341     0.001836   \n",
       "\n",
       "   z_acl_noise     x_hed     y_hed  z_hed  hed_noise  hed_noise.1  hed_noise.2  \n",
       "0          0.0 -0.102790  0.994703    0.0   7.994259     7.376133          0.0  \n",
       "1          0.0 -0.102790  0.994703    0.0   8.174877     5.941998          0.0  \n",
       "2          0.0 -0.107971  0.994154    0.0   8.360550     4.900224          0.0  \n",
       "3          0.0 -0.129025  0.991641    0.0   8.667087     4.035659          0.0  \n",
       "4          0.0 -0.152295  0.988335    0.0   9.089413     3.294954          0.0  \n",
       "\n",
       "[5 rows x 29 columns]"
      ]
     },
     "execution_count": 137,
     "metadata": {},
     "output_type": "execute_result"
    }
   ],
   "source": [
    "results.head() #view the contents of the data frame: just few line\n",
    "#missing values are represented with NaNr"
   ]
  },
  {
   "cell_type": "markdown",
   "id": "d12b49f3",
   "metadata": {},
   "source": [
    "You can see that the structure of the data frame, i.e. rows and columns, directly corresponds to the contents of the CSV file. Column names have been taken from the first line of the CSV file."
   ]
  },
  {
   "cell_type": "code",
   "execution_count": 28,
   "id": "2482a19c",
   "metadata": {
    "scrolled": true
   },
   "outputs": [
    {
     "data": {
      "text/html": [
       "<div>\n",
       "<style scoped>\n",
       "    .dataframe tbody tr th:only-of-type {\n",
       "        vertical-align: middle;\n",
       "    }\n",
       "\n",
       "    .dataframe tbody tr th {\n",
       "        vertical-align: top;\n",
       "    }\n",
       "\n",
       "    .dataframe thead th {\n",
       "        text-align: right;\n",
       "    }\n",
       "</style>\n",
       "<table border=\"1\" class=\"dataframe\">\n",
       "  <thead>\n",
       "    <tr style=\"text-align: right;\">\n",
       "      <th></th>\n",
       "      <th>type</th>\n",
       "      <th>sendTime</th>\n",
       "      <th>sender</th>\n",
       "      <th>senderPseudo</th>\n",
       "      <th>messageID</th>\n",
       "      <th>x_pos</th>\n",
       "      <th>y_pos</th>\n",
       "      <th>z_pos</th>\n",
       "      <th>x_pos_noise</th>\n",
       "      <th>y_pos_noise</th>\n",
       "      <th>...</th>\n",
       "      <th>z_acl</th>\n",
       "      <th>x_acl_noise</th>\n",
       "      <th>y_acl_noise</th>\n",
       "      <th>z_acl_noise</th>\n",
       "      <th>x_hed</th>\n",
       "      <th>y_hed</th>\n",
       "      <th>z_hed</th>\n",
       "      <th>hed_noise</th>\n",
       "      <th>hed_noise.1</th>\n",
       "      <th>hed_noise.2</th>\n",
       "    </tr>\n",
       "  </thead>\n",
       "  <tbody>\n",
       "    <tr>\n",
       "      <th>196773</th>\n",
       "      <td>4</td>\n",
       "      <td>28955.499913</td>\n",
       "      <td>10989</td>\n",
       "      <td>10109892</td>\n",
       "      <td>30506282</td>\n",
       "      <td>622.657380</td>\n",
       "      <td>338.808602</td>\n",
       "      <td>0.0</td>\n",
       "      <td>4.013036</td>\n",
       "      <td>4.089348</td>\n",
       "      <td>...</td>\n",
       "      <td>0.0</td>\n",
       "      <td>0.000003</td>\n",
       "      <td>9.470141e-07</td>\n",
       "      <td>0.0</td>\n",
       "      <td>-0.980196</td>\n",
       "      <td>-0.198028</td>\n",
       "      <td>0.0</td>\n",
       "      <td>15.010914</td>\n",
       "      <td>6.500080</td>\n",
       "      <td>0.0</td>\n",
       "    </tr>\n",
       "    <tr>\n",
       "      <th>196774</th>\n",
       "      <td>4</td>\n",
       "      <td>28956.499913</td>\n",
       "      <td>10989</td>\n",
       "      <td>10109892</td>\n",
       "      <td>30520105</td>\n",
       "      <td>609.846311</td>\n",
       "      <td>334.488775</td>\n",
       "      <td>0.0</td>\n",
       "      <td>3.906377</td>\n",
       "      <td>3.950460</td>\n",
       "      <td>...</td>\n",
       "      <td>0.0</td>\n",
       "      <td>0.000008</td>\n",
       "      <td>2.845699e-06</td>\n",
       "      <td>0.0</td>\n",
       "      <td>-0.980196</td>\n",
       "      <td>-0.198028</td>\n",
       "      <td>0.0</td>\n",
       "      <td>14.961632</td>\n",
       "      <td>6.492785</td>\n",
       "      <td>0.0</td>\n",
       "    </tr>\n",
       "    <tr>\n",
       "      <th>196775</th>\n",
       "      <td>4</td>\n",
       "      <td>28957.499913</td>\n",
       "      <td>10989</td>\n",
       "      <td>10109892</td>\n",
       "      <td>30529108</td>\n",
       "      <td>597.055046</td>\n",
       "      <td>330.186404</td>\n",
       "      <td>0.0</td>\n",
       "      <td>3.988000</td>\n",
       "      <td>4.138586</td>\n",
       "      <td>...</td>\n",
       "      <td>0.0</td>\n",
       "      <td>0.000006</td>\n",
       "      <td>1.936719e-06</td>\n",
       "      <td>0.0</td>\n",
       "      <td>-0.980196</td>\n",
       "      <td>-0.198028</td>\n",
       "      <td>0.0</td>\n",
       "      <td>14.980396</td>\n",
       "      <td>6.495564</td>\n",
       "      <td>0.0</td>\n",
       "    </tr>\n",
       "    <tr>\n",
       "      <th>196776</th>\n",
       "      <td>4</td>\n",
       "      <td>28958.499913</td>\n",
       "      <td>10989</td>\n",
       "      <td>10109892</td>\n",
       "      <td>30542269</td>\n",
       "      <td>586.059696</td>\n",
       "      <td>326.461412</td>\n",
       "      <td>0.0</td>\n",
       "      <td>4.197563</td>\n",
       "      <td>3.824349</td>\n",
       "      <td>...</td>\n",
       "      <td>0.0</td>\n",
       "      <td>0.000002</td>\n",
       "      <td>7.414492e-07</td>\n",
       "      <td>0.0</td>\n",
       "      <td>-0.980196</td>\n",
       "      <td>-0.198028</td>\n",
       "      <td>0.0</td>\n",
       "      <td>10.374983</td>\n",
       "      <td>5.729841</td>\n",
       "      <td>0.0</td>\n",
       "    </tr>\n",
       "    <tr>\n",
       "      <th>196777</th>\n",
       "      <td>4</td>\n",
       "      <td>28959.499913</td>\n",
       "      <td>10989</td>\n",
       "      <td>10109892</td>\n",
       "      <td>30551396</td>\n",
       "      <td>579.239766</td>\n",
       "      <td>324.149845</td>\n",
       "      <td>0.0</td>\n",
       "      <td>4.012787</td>\n",
       "      <td>3.743926</td>\n",
       "      <td>...</td>\n",
       "      <td>0.0</td>\n",
       "      <td>0.000634</td>\n",
       "      <td>2.163360e-04</td>\n",
       "      <td>0.0</td>\n",
       "      <td>-0.979055</td>\n",
       "      <td>-0.203594</td>\n",
       "      <td>0.0</td>\n",
       "      <td>6.788436</td>\n",
       "      <td>4.957246</td>\n",
       "      <td>0.0</td>\n",
       "    </tr>\n",
       "  </tbody>\n",
       "</table>\n",
       "<p>5 rows × 29 columns</p>\n",
       "</div>"
      ],
      "text/plain": [
       "        type      sendTime  sender  senderPseudo  messageID       x_pos  \\\n",
       "196773     4  28955.499913   10989      10109892   30506282  622.657380   \n",
       "196774     4  28956.499913   10989      10109892   30520105  609.846311   \n",
       "196775     4  28957.499913   10989      10109892   30529108  597.055046   \n",
       "196776     4  28958.499913   10989      10109892   30542269  586.059696   \n",
       "196777     4  28959.499913   10989      10109892   30551396  579.239766   \n",
       "\n",
       "             y_pos  z_pos  x_pos_noise  y_pos_noise  ...  z_acl  x_acl_noise  \\\n",
       "196773  338.808602    0.0     4.013036     4.089348  ...    0.0     0.000003   \n",
       "196774  334.488775    0.0     3.906377     3.950460  ...    0.0     0.000008   \n",
       "196775  330.186404    0.0     3.988000     4.138586  ...    0.0     0.000006   \n",
       "196776  326.461412    0.0     4.197563     3.824349  ...    0.0     0.000002   \n",
       "196777  324.149845    0.0     4.012787     3.743926  ...    0.0     0.000634   \n",
       "\n",
       "         y_acl_noise  z_acl_noise     x_hed     y_hed  z_hed  hed_noise  \\\n",
       "196773  9.470141e-07          0.0 -0.980196 -0.198028    0.0  15.010914   \n",
       "196774  2.845699e-06          0.0 -0.980196 -0.198028    0.0  14.961632   \n",
       "196775  1.936719e-06          0.0 -0.980196 -0.198028    0.0  14.980396   \n",
       "196776  7.414492e-07          0.0 -0.980196 -0.198028    0.0  10.374983   \n",
       "196777  2.163360e-04          0.0 -0.979055 -0.203594    0.0   6.788436   \n",
       "\n",
       "        hed_noise.1  hed_noise.2  \n",
       "196773     6.500080          0.0  \n",
       "196774     6.492785          0.0  \n",
       "196775     6.495564          0.0  \n",
       "196776     5.729841          0.0  \n",
       "196777     4.957246          0.0  \n",
       "\n",
       "[5 rows x 29 columns]"
      ]
     },
     "execution_count": 28,
     "metadata": {},
     "output_type": "execute_result"
    }
   ],
   "source": [
    "results.tail() #last few line"
   ]
  },
  {
   "cell_type": "markdown",
   "id": "a9b7fa71",
   "metadata": {},
   "source": [
    "The complementary tail() method shows the last few lines. There is also an iloc method that we use at places in this tutorial to show rows from the middle of the data frame. It accepts a range:"
   ]
  },
  {
   "cell_type": "code",
   "execution_count": 62,
   "id": "c195e601",
   "metadata": {
    "scrolled": true
   },
   "outputs": [
    {
     "data": {
      "text/html": [
       "<div>\n",
       "<style scoped>\n",
       "    .dataframe tbody tr th:only-of-type {\n",
       "        vertical-align: middle;\n",
       "    }\n",
       "\n",
       "    .dataframe tbody tr th {\n",
       "        vertical-align: top;\n",
       "    }\n",
       "\n",
       "    .dataframe thead th {\n",
       "        text-align: right;\n",
       "    }\n",
       "</style>\n",
       "<table border=\"1\" class=\"dataframe\">\n",
       "  <thead>\n",
       "    <tr style=\"text-align: right;\">\n",
       "      <th></th>\n",
       "      <th>type</th>\n",
       "      <th>sendTime</th>\n",
       "      <th>sender</th>\n",
       "      <th>senderPseudo</th>\n",
       "      <th>messageID</th>\n",
       "      <th>x_pos</th>\n",
       "      <th>y_pos</th>\n",
       "      <th>z_pos</th>\n",
       "      <th>x_pos_noise</th>\n",
       "      <th>y_pos_noise</th>\n",
       "      <th>...</th>\n",
       "      <th>z_acl</th>\n",
       "      <th>x_acl_noise</th>\n",
       "      <th>y_acl_noise</th>\n",
       "      <th>z_acl_noise</th>\n",
       "      <th>x_hed</th>\n",
       "      <th>y_hed</th>\n",
       "      <th>z_hed</th>\n",
       "      <th>hed_noise</th>\n",
       "      <th>hed_noise.1</th>\n",
       "      <th>hed_noise.2</th>\n",
       "    </tr>\n",
       "  </thead>\n",
       "  <tbody>\n",
       "    <tr>\n",
       "      <th>12</th>\n",
       "      <td>4</td>\n",
       "      <td>25209.812169</td>\n",
       "      <td>21</td>\n",
       "      <td>10212</td>\n",
       "      <td>17164</td>\n",
       "      <td>152.828755</td>\n",
       "      <td>902.586505</td>\n",
       "      <td>0.0</td>\n",
       "      <td>3.317255</td>\n",
       "      <td>3.348601</td>\n",
       "      <td>...</td>\n",
       "      <td>0.0</td>\n",
       "      <td>0.000064</td>\n",
       "      <td>0.000869</td>\n",
       "      <td>0.0</td>\n",
       "      <td>0.071785</td>\n",
       "      <td>-0.997420</td>\n",
       "      <td>0.0</td>\n",
       "      <td>17.497600</td>\n",
       "      <td>23.916289</td>\n",
       "      <td>0.0</td>\n",
       "    </tr>\n",
       "    <tr>\n",
       "      <th>13</th>\n",
       "      <td>4</td>\n",
       "      <td>25209.891773</td>\n",
       "      <td>15</td>\n",
       "      <td>10152</td>\n",
       "      <td>17187</td>\n",
       "      <td>122.046546</td>\n",
       "      <td>1086.429849</td>\n",
       "      <td>0.0</td>\n",
       "      <td>4.325058</td>\n",
       "      <td>4.403194</td>\n",
       "      <td>...</td>\n",
       "      <td>0.0</td>\n",
       "      <td>0.000461</td>\n",
       "      <td>0.004917</td>\n",
       "      <td>0.0</td>\n",
       "      <td>0.078451</td>\n",
       "      <td>-0.996918</td>\n",
       "      <td>0.0</td>\n",
       "      <td>15.744606</td>\n",
       "      <td>24.856974</td>\n",
       "      <td>0.0</td>\n",
       "    </tr>\n",
       "    <tr>\n",
       "      <th>14</th>\n",
       "      <td>4</td>\n",
       "      <td>25209.925597</td>\n",
       "      <td>27</td>\n",
       "      <td>10272</td>\n",
       "      <td>17204</td>\n",
       "      <td>113.211027</td>\n",
       "      <td>891.558134</td>\n",
       "      <td>0.0</td>\n",
       "      <td>4.640201</td>\n",
       "      <td>4.625915</td>\n",
       "      <td>...</td>\n",
       "      <td>0.0</td>\n",
       "      <td>0.000073</td>\n",
       "      <td>0.000006</td>\n",
       "      <td>0.0</td>\n",
       "      <td>0.997140</td>\n",
       "      <td>0.075578</td>\n",
       "      <td>0.0</td>\n",
       "      <td>10.170502</td>\n",
       "      <td>13.061297</td>\n",
       "      <td>0.0</td>\n",
       "    </tr>\n",
       "    <tr>\n",
       "      <th>15</th>\n",
       "      <td>4</td>\n",
       "      <td>25210.602763</td>\n",
       "      <td>9</td>\n",
       "      <td>1092</td>\n",
       "      <td>21525</td>\n",
       "      <td>260.954087</td>\n",
       "      <td>120.507590</td>\n",
       "      <td>0.0</td>\n",
       "      <td>3.616370</td>\n",
       "      <td>3.358991</td>\n",
       "      <td>...</td>\n",
       "      <td>0.0</td>\n",
       "      <td>0.000040</td>\n",
       "      <td>0.001668</td>\n",
       "      <td>0.0</td>\n",
       "      <td>-0.145267</td>\n",
       "      <td>0.989393</td>\n",
       "      <td>0.0</td>\n",
       "      <td>10.042248</td>\n",
       "      <td>1.895298</td>\n",
       "      <td>0.0</td>\n",
       "    </tr>\n",
       "    <tr>\n",
       "      <th>16</th>\n",
       "      <td>4</td>\n",
       "      <td>25210.758616</td>\n",
       "      <td>33</td>\n",
       "      <td>10332</td>\n",
       "      <td>21539</td>\n",
       "      <td>1388.098706</td>\n",
       "      <td>1230.777977</td>\n",
       "      <td>0.0</td>\n",
       "      <td>4.261769</td>\n",
       "      <td>4.034128</td>\n",
       "      <td>...</td>\n",
       "      <td>0.0</td>\n",
       "      <td>0.001842</td>\n",
       "      <td>0.001842</td>\n",
       "      <td>0.0</td>\n",
       "      <td>0.071818</td>\n",
       "      <td>-0.997418</td>\n",
       "      <td>0.0</td>\n",
       "      <td>12.829108</td>\n",
       "      <td>13.808220</td>\n",
       "      <td>0.0</td>\n",
       "    </tr>\n",
       "  </tbody>\n",
       "</table>\n",
       "<p>5 rows × 29 columns</p>\n",
       "</div>"
      ],
      "text/plain": [
       "    type      sendTime  sender  senderPseudo  messageID        x_pos  \\\n",
       "12     4  25209.812169      21         10212      17164   152.828755   \n",
       "13     4  25209.891773      15         10152      17187   122.046546   \n",
       "14     4  25209.925597      27         10272      17204   113.211027   \n",
       "15     4  25210.602763       9          1092      21525   260.954087   \n",
       "16     4  25210.758616      33         10332      21539  1388.098706   \n",
       "\n",
       "          y_pos  z_pos  x_pos_noise  y_pos_noise  ...  z_acl  x_acl_noise  \\\n",
       "12   902.586505    0.0     3.317255     3.348601  ...    0.0     0.000064   \n",
       "13  1086.429849    0.0     4.325058     4.403194  ...    0.0     0.000461   \n",
       "14   891.558134    0.0     4.640201     4.625915  ...    0.0     0.000073   \n",
       "15   120.507590    0.0     3.616370     3.358991  ...    0.0     0.000040   \n",
       "16  1230.777977    0.0     4.261769     4.034128  ...    0.0     0.001842   \n",
       "\n",
       "    y_acl_noise  z_acl_noise     x_hed     y_hed  z_hed  hed_noise  \\\n",
       "12     0.000869          0.0  0.071785 -0.997420    0.0  17.497600   \n",
       "13     0.004917          0.0  0.078451 -0.996918    0.0  15.744606   \n",
       "14     0.000006          0.0  0.997140  0.075578    0.0  10.170502   \n",
       "15     0.001668          0.0 -0.145267  0.989393    0.0  10.042248   \n",
       "16     0.001842          0.0  0.071818 -0.997418    0.0  12.829108   \n",
       "\n",
       "    hed_noise.1  hed_noise.2  \n",
       "12    23.916289          0.0  \n",
       "13    24.856974          0.0  \n",
       "14    13.061297          0.0  \n",
       "15     1.895298          0.0  \n",
       "16    13.808220          0.0  \n",
       "\n",
       "[5 rows x 29 columns]"
      ]
     },
     "execution_count": 62,
     "metadata": {},
     "output_type": "execute_result"
    }
   ],
   "source": [
    "# Print rows from the middle of the dataFrame, as it accept a range\n",
    "results.iloc[12:17] #  show rows from the middle of the data frame"
   ]
  },
  {
   "cell_type": "markdown",
   "id": "f09a7484",
   "metadata": {},
   "source": [
    "# Selecting multiple columns"
   ]
  },
  {
   "cell_type": "markdown",
   "id": "8ae9d350",
   "metadata": {},
   "source": [
    "Another vital thing to know, especially due of the existence of the type column in the OMNeT++ CSV format, is how to filter rows. Perhaps surprisingly, the array index syntax can be used here as well."
   ]
  },
  {
   "cell_type": "code",
   "execution_count": 63,
   "id": "d38114af",
   "metadata": {},
   "outputs": [
    {
     "data": {
      "text/html": [
       "<div>\n",
       "<style scoped>\n",
       "    .dataframe tbody tr th:only-of-type {\n",
       "        vertical-align: middle;\n",
       "    }\n",
       "\n",
       "    .dataframe tbody tr th {\n",
       "        vertical-align: top;\n",
       "    }\n",
       "\n",
       "    .dataframe thead th {\n",
       "        text-align: right;\n",
       "    }\n",
       "</style>\n",
       "<table border=\"1\" class=\"dataframe\">\n",
       "  <thead>\n",
       "    <tr style=\"text-align: right;\">\n",
       "      <th></th>\n",
       "      <th>sendTime</th>\n",
       "      <th>sender</th>\n",
       "      <th>x_pos</th>\n",
       "    </tr>\n",
       "  </thead>\n",
       "  <tbody>\n",
       "    <tr>\n",
       "      <th>0</th>\n",
       "      <td>25202.602763</td>\n",
       "      <td>9</td>\n",
       "      <td>265.244033</td>\n",
       "    </tr>\n",
       "    <tr>\n",
       "      <th>1</th>\n",
       "      <td>25203.602763</td>\n",
       "      <td>9</td>\n",
       "      <td>264.885167</td>\n",
       "    </tr>\n",
       "    <tr>\n",
       "      <th>2</th>\n",
       "      <td>25204.602763</td>\n",
       "      <td>9</td>\n",
       "      <td>264.629254</td>\n",
       "    </tr>\n",
       "    <tr>\n",
       "      <th>3</th>\n",
       "      <td>25205.602763</td>\n",
       "      <td>9</td>\n",
       "      <td>263.961141</td>\n",
       "    </tr>\n",
       "    <tr>\n",
       "      <th>4</th>\n",
       "      <td>25206.602763</td>\n",
       "      <td>9</td>\n",
       "      <td>265.764984</td>\n",
       "    </tr>\n",
       "  </tbody>\n",
       "</table>\n",
       "</div>"
      ],
      "text/plain": [
       "       sendTime  sender       x_pos\n",
       "0  25202.602763       9  265.244033\n",
       "1  25203.602763       9  264.885167\n",
       "2  25204.602763       9  264.629254\n",
       "3  25205.602763       9  263.961141\n",
       "4  25206.602763       9  265.764984"
      ]
     },
     "execution_count": 63,
     "metadata": {},
     "output_type": "execute_result"
    }
   ],
   "source": [
    "tmp = results[['sendTime', 'sender', 'x_pos']] # setect multiple columns\n",
    "tmp.head()"
   ]
  },
  {
   "cell_type": "markdown",
   "id": "a9d46b0f",
   "metadata": {},
   "source": [
    "# Get an idea about the contents"
   ]
  },
  {
   "cell_type": "markdown",
   "id": "f1a6e479",
   "metadata": {},
   "source": [
    "The describe() method can be used to get an idea about the contents of a column. When applied to a non-numeric column, it prints the number of non-null elements in it (count), the number of unique values (unique), the most frequently occurring value (top) and its multiplicity (freq), and the inferred data type (more about that later.)"
   ]
  },
  {
   "cell_type": "code",
   "execution_count": 32,
   "id": "cc3309ad",
   "metadata": {
    "scrolled": true
   },
   "outputs": [
    {
     "data": {
      "text/html": [
       "<div>\n",
       "<style scoped>\n",
       "    .dataframe tbody tr th:only-of-type {\n",
       "        vertical-align: middle;\n",
       "    }\n",
       "\n",
       "    .dataframe tbody tr th {\n",
       "        vertical-align: top;\n",
       "    }\n",
       "\n",
       "    .dataframe thead th {\n",
       "        text-align: right;\n",
       "    }\n",
       "</style>\n",
       "<table border=\"1\" class=\"dataframe\">\n",
       "  <thead>\n",
       "    <tr style=\"text-align: right;\">\n",
       "      <th></th>\n",
       "      <th>type</th>\n",
       "      <th>sendTime</th>\n",
       "      <th>sender</th>\n",
       "      <th>senderPseudo</th>\n",
       "      <th>messageID</th>\n",
       "      <th>x_pos</th>\n",
       "      <th>y_pos</th>\n",
       "      <th>z_pos</th>\n",
       "      <th>x_pos_noise</th>\n",
       "      <th>y_pos_noise</th>\n",
       "      <th>...</th>\n",
       "      <th>z_acl</th>\n",
       "      <th>x_acl_noise</th>\n",
       "      <th>y_acl_noise</th>\n",
       "      <th>z_acl_noise</th>\n",
       "      <th>x_hed</th>\n",
       "      <th>y_hed</th>\n",
       "      <th>z_hed</th>\n",
       "      <th>hed_noise</th>\n",
       "      <th>hed_noise.1</th>\n",
       "      <th>hed_noise.2</th>\n",
       "    </tr>\n",
       "  </thead>\n",
       "  <tbody>\n",
       "    <tr>\n",
       "      <th>count</th>\n",
       "      <td>196778.0</td>\n",
       "      <td>196778.000000</td>\n",
       "      <td>196778.000000</td>\n",
       "      <td>1.967780e+05</td>\n",
       "      <td>1.967780e+05</td>\n",
       "      <td>196778.000000</td>\n",
       "      <td>196778.000000</td>\n",
       "      <td>196778.0</td>\n",
       "      <td>196778.000000</td>\n",
       "      <td>196778.000000</td>\n",
       "      <td>...</td>\n",
       "      <td>196778.0</td>\n",
       "      <td>196778.000000</td>\n",
       "      <td>196778.000000</td>\n",
       "      <td>196778.0</td>\n",
       "      <td>196778.000000</td>\n",
       "      <td>196778.000000</td>\n",
       "      <td>196778.0</td>\n",
       "      <td>196778.000000</td>\n",
       "      <td>196778.000000</td>\n",
       "      <td>196778.0</td>\n",
       "    </tr>\n",
       "    <tr>\n",
       "      <th>mean</th>\n",
       "      <td>4.0</td>\n",
       "      <td>27193.219969</td>\n",
       "      <td>5639.282450</td>\n",
       "      <td>1.890175e+06</td>\n",
       "      <td>1.416361e+07</td>\n",
       "      <td>615.186773</td>\n",
       "      <td>667.883410</td>\n",
       "      <td>0.0</td>\n",
       "      <td>4.022201</td>\n",
       "      <td>4.023829</td>\n",
       "      <td>...</td>\n",
       "      <td>0.0</td>\n",
       "      <td>0.001003</td>\n",
       "      <td>0.001105</td>\n",
       "      <td>0.0</td>\n",
       "      <td>-0.088279</td>\n",
       "      <td>0.041224</td>\n",
       "      <td>0.0</td>\n",
       "      <td>13.793972</td>\n",
       "      <td>12.862860</td>\n",
       "      <td>0.0</td>\n",
       "    </tr>\n",
       "    <tr>\n",
       "      <th>std</th>\n",
       "      <td>0.0</td>\n",
       "      <td>1023.408165</td>\n",
       "      <td>3185.408859</td>\n",
       "      <td>2.767845e+06</td>\n",
       "      <td>8.517166e+06</td>\n",
       "      <td>383.965966</td>\n",
       "      <td>283.155442</td>\n",
       "      <td>0.0</td>\n",
       "      <td>0.601837</td>\n",
       "      <td>0.603674</td>\n",
       "      <td>...</td>\n",
       "      <td>0.0</td>\n",
       "      <td>0.002787</td>\n",
       "      <td>0.002659</td>\n",
       "      <td>0.0</td>\n",
       "      <td>0.695996</td>\n",
       "      <td>0.711408</td>\n",
       "      <td>0.0</td>\n",
       "      <td>14.410837</td>\n",
       "      <td>13.759887</td>\n",
       "      <td>0.0</td>\n",
       "    </tr>\n",
       "    <tr>\n",
       "      <th>min</th>\n",
       "      <td>4.0</td>\n",
       "      <td>25202.602763</td>\n",
       "      <td>9.000000</td>\n",
       "      <td>1.092000e+03</td>\n",
       "      <td>4.184000e+03</td>\n",
       "      <td>-0.705000</td>\n",
       "      <td>-6.305098</td>\n",
       "      <td>0.0</td>\n",
       "      <td>2.636395</td>\n",
       "      <td>2.674073</td>\n",
       "      <td>...</td>\n",
       "      <td>0.0</td>\n",
       "      <td>0.000000</td>\n",
       "      <td>0.000000</td>\n",
       "      <td>0.0</td>\n",
       "      <td>-1.000000</td>\n",
       "      <td>-1.000000</td>\n",
       "      <td>0.0</td>\n",
       "      <td>0.001283</td>\n",
       "      <td>0.001362</td>\n",
       "      <td>0.0</td>\n",
       "    </tr>\n",
       "    <tr>\n",
       "      <th>25%</th>\n",
       "      <td>4.0</td>\n",
       "      <td>26356.458883</td>\n",
       "      <td>2919.000000</td>\n",
       "      <td>1.029192e+06</td>\n",
       "      <td>6.624777e+06</td>\n",
       "      <td>234.878150</td>\n",
       "      <td>433.356142</td>\n",
       "      <td>0.0</td>\n",
       "      <td>3.503665</td>\n",
       "      <td>3.501938</td>\n",
       "      <td>...</td>\n",
       "      <td>0.0</td>\n",
       "      <td>0.000015</td>\n",
       "      <td>0.000014</td>\n",
       "      <td>0.0</td>\n",
       "      <td>-0.785912</td>\n",
       "      <td>-0.669227</td>\n",
       "      <td>0.0</td>\n",
       "      <td>3.844558</td>\n",
       "      <td>3.698944</td>\n",
       "      <td>0.0</td>\n",
       "    </tr>\n",
       "    <tr>\n",
       "      <th>50%</th>\n",
       "      <td>4.0</td>\n",
       "      <td>27214.873633</td>\n",
       "      <td>5661.000000</td>\n",
       "      <td>1.056612e+06</td>\n",
       "      <td>1.407187e+07</td>\n",
       "      <td>610.502678</td>\n",
       "      <td>724.726483</td>\n",
       "      <td>0.0</td>\n",
       "      <td>4.030809</td>\n",
       "      <td>4.033152</td>\n",
       "      <td>...</td>\n",
       "      <td>0.0</td>\n",
       "      <td>0.000118</td>\n",
       "      <td>0.000125</td>\n",
       "      <td>0.0</td>\n",
       "      <td>-0.066946</td>\n",
       "      <td>0.061860</td>\n",
       "      <td>0.0</td>\n",
       "      <td>9.045490</td>\n",
       "      <td>8.237548</td>\n",
       "      <td>0.0</td>\n",
       "    </tr>\n",
       "    <tr>\n",
       "      <th>75%</th>\n",
       "      <td>4.0</td>\n",
       "      <td>28106.453049</td>\n",
       "      <td>8427.000000</td>\n",
       "      <td>1.084272e+06</td>\n",
       "      <td>2.135810e+07</td>\n",
       "      <td>916.440322</td>\n",
       "      <td>895.947801</td>\n",
       "      <td>0.0</td>\n",
       "      <td>4.528282</td>\n",
       "      <td>4.531677</td>\n",
       "      <td>...</td>\n",
       "      <td>0.0</td>\n",
       "      <td>0.000788</td>\n",
       "      <td>0.001111</td>\n",
       "      <td>0.0</td>\n",
       "      <td>0.583234</td>\n",
       "      <td>0.750887</td>\n",
       "      <td>0.0</td>\n",
       "      <td>18.208400</td>\n",
       "      <td>16.864511</td>\n",
       "      <td>0.0</td>\n",
       "    </tr>\n",
       "    <tr>\n",
       "      <th>max</th>\n",
       "      <td>4.0</td>\n",
       "      <td>28959.499913</td>\n",
       "      <td>11061.000000</td>\n",
       "      <td>1.011061e+07</td>\n",
       "      <td>3.055140e+07</td>\n",
       "      <td>1429.306045</td>\n",
       "      <td>1390.358058</td>\n",
       "      <td>0.0</td>\n",
       "      <td>5.707988</td>\n",
       "      <td>5.592026</td>\n",
       "      <td>...</td>\n",
       "      <td>0.0</td>\n",
       "      <td>0.086891</td>\n",
       "      <td>0.078523</td>\n",
       "      <td>0.0</td>\n",
       "      <td>1.000000</td>\n",
       "      <td>1.000000</td>\n",
       "      <td>0.0</td>\n",
       "      <td>112.978303</td>\n",
       "      <td>103.116687</td>\n",
       "      <td>0.0</td>\n",
       "    </tr>\n",
       "  </tbody>\n",
       "</table>\n",
       "<p>8 rows × 29 columns</p>\n",
       "</div>"
      ],
      "text/plain": [
       "           type       sendTime         sender  senderPseudo     messageID  \\\n",
       "count  196778.0  196778.000000  196778.000000  1.967780e+05  1.967780e+05   \n",
       "mean        4.0   27193.219969    5639.282450  1.890175e+06  1.416361e+07   \n",
       "std         0.0    1023.408165    3185.408859  2.767845e+06  8.517166e+06   \n",
       "min         4.0   25202.602763       9.000000  1.092000e+03  4.184000e+03   \n",
       "25%         4.0   26356.458883    2919.000000  1.029192e+06  6.624777e+06   \n",
       "50%         4.0   27214.873633    5661.000000  1.056612e+06  1.407187e+07   \n",
       "75%         4.0   28106.453049    8427.000000  1.084272e+06  2.135810e+07   \n",
       "max         4.0   28959.499913   11061.000000  1.011061e+07  3.055140e+07   \n",
       "\n",
       "               x_pos          y_pos     z_pos    x_pos_noise    y_pos_noise  \\\n",
       "count  196778.000000  196778.000000  196778.0  196778.000000  196778.000000   \n",
       "mean      615.186773     667.883410       0.0       4.022201       4.023829   \n",
       "std       383.965966     283.155442       0.0       0.601837       0.603674   \n",
       "min        -0.705000      -6.305098       0.0       2.636395       2.674073   \n",
       "25%       234.878150     433.356142       0.0       3.503665       3.501938   \n",
       "50%       610.502678     724.726483       0.0       4.030809       4.033152   \n",
       "75%       916.440322     895.947801       0.0       4.528282       4.531677   \n",
       "max      1429.306045    1390.358058       0.0       5.707988       5.592026   \n",
       "\n",
       "       ...     z_acl    x_acl_noise    y_acl_noise  z_acl_noise  \\\n",
       "count  ...  196778.0  196778.000000  196778.000000     196778.0   \n",
       "mean   ...       0.0       0.001003       0.001105          0.0   \n",
       "std    ...       0.0       0.002787       0.002659          0.0   \n",
       "min    ...       0.0       0.000000       0.000000          0.0   \n",
       "25%    ...       0.0       0.000015       0.000014          0.0   \n",
       "50%    ...       0.0       0.000118       0.000125          0.0   \n",
       "75%    ...       0.0       0.000788       0.001111          0.0   \n",
       "max    ...       0.0       0.086891       0.078523          0.0   \n",
       "\n",
       "               x_hed          y_hed     z_hed      hed_noise    hed_noise.1  \\\n",
       "count  196778.000000  196778.000000  196778.0  196778.000000  196778.000000   \n",
       "mean       -0.088279       0.041224       0.0      13.793972      12.862860   \n",
       "std         0.695996       0.711408       0.0      14.410837      13.759887   \n",
       "min        -1.000000      -1.000000       0.0       0.001283       0.001362   \n",
       "25%        -0.785912      -0.669227       0.0       3.844558       3.698944   \n",
       "50%        -0.066946       0.061860       0.0       9.045490       8.237548   \n",
       "75%         0.583234       0.750887       0.0      18.208400      16.864511   \n",
       "max         1.000000       1.000000       0.0     112.978303     103.116687   \n",
       "\n",
       "       hed_noise.2  \n",
       "count     196778.0  \n",
       "mean           0.0  \n",
       "std            0.0  \n",
       "min            0.0  \n",
       "25%            0.0  \n",
       "50%            0.0  \n",
       "75%            0.0  \n",
       "max            0.0  \n",
       "\n",
       "[8 rows x 29 columns]"
      ]
     },
     "execution_count": 32,
     "metadata": {},
     "output_type": "execute_result"
    }
   ],
   "source": [
    "results.describe() # discribe method can be used to get an idea about the contents of the dataFrame"
   ]
  },
  {
   "cell_type": "markdown",
   "id": "bd250c52",
   "metadata": {},
   "source": [
    "Applying describe() to the whole data frame creates a similar report about all numeric columns.But also can be used to describe a column"
   ]
  },
  {
   "cell_type": "code",
   "execution_count": 64,
   "id": "520e0166",
   "metadata": {
    "scrolled": true
   },
   "outputs": [
    {
     "data": {
      "text/plain": [
       "count    196778.000000\n",
       "mean      27193.219969\n",
       "std        1023.408165\n",
       "min       25202.602763\n",
       "25%       26356.458883\n",
       "50%       27214.873633\n",
       "75%       28106.453049\n",
       "max       28959.499913\n",
       "Name: sendTime, dtype: float64"
      ]
     },
     "execution_count": 64,
     "metadata": {},
     "output_type": "execute_result"
    }
   ],
   "source": [
    "results.sendTime.describe() # discribe method can be used to get an idea about the contents of a column"
   ]
  },
  {
   "cell_type": "markdown",
   "id": "ae7b430d",
   "metadata": {},
   "source": [
    "When you apply describe() to a numeric column, you get a statistical summary with things like mean, standard deviation, minimum, maximum, and various quantiles."
   ]
  },
  {
   "cell_type": "markdown",
   "id": "c62a996d",
   "metadata": {},
   "source": [
    "# List of the unique values"
   ]
  },
  {
   "cell_type": "code",
   "execution_count": null,
   "id": "e519429f",
   "metadata": {},
   "outputs": [],
   "source": []
  },
  {
   "cell_type": "code",
   "execution_count": 66,
   "id": "c6ce2139",
   "metadata": {},
   "outputs": [
    {
     "data": {
      "text/plain": [
       "array([    9,    15,    21, ..., 11049, 11055, 11061])"
      ]
     },
     "execution_count": 66,
     "metadata": {},
     "output_type": "execute_result"
    }
   ],
   "source": [
    "results.sender.unique() # get a list of unique values using unique method"
   ]
  },
  {
   "cell_type": "markdown",
   "id": "5c58aac2",
   "metadata": {},
   "source": [
    "## When we apply describe() to a numeric column, you get a statistical summary with things like mean, standard deviation, minimum, maximum, and various quantiles."
   ]
  },
  {
   "cell_type": "code",
   "execution_count": 39,
   "id": "a1f9c43a",
   "metadata": {
    "scrolled": true
   },
   "outputs": [
    {
     "data": {
      "text/plain": [
       "count    196778.000000\n",
       "mean       5639.282450\n",
       "std        3185.408859\n",
       "min           9.000000\n",
       "25%        2919.000000\n",
       "50%        5661.000000\n",
       "75%        8427.000000\n",
       "max       11061.000000\n",
       "Name: sender, dtype: float64"
      ]
     },
     "execution_count": 39,
     "metadata": {},
     "output_type": "execute_result"
    }
   ],
   "source": [
    "results.sender.describe()"
   ]
  },
  {
   "cell_type": "code",
   "execution_count": 68,
   "id": "8cc51d13",
   "metadata": {
    "scrolled": true
   },
   "outputs": [
    {
     "data": {
      "text/html": [
       "<div>\n",
       "<style scoped>\n",
       "    .dataframe tbody tr th:only-of-type {\n",
       "        vertical-align: middle;\n",
       "    }\n",
       "\n",
       "    .dataframe tbody tr th {\n",
       "        vertical-align: top;\n",
       "    }\n",
       "\n",
       "    .dataframe thead th {\n",
       "        text-align: right;\n",
       "    }\n",
       "</style>\n",
       "<table border=\"1\" class=\"dataframe\">\n",
       "  <thead>\n",
       "    <tr style=\"text-align: right;\">\n",
       "      <th></th>\n",
       "      <th>type</th>\n",
       "      <th>sendTime</th>\n",
       "      <th>sender</th>\n",
       "      <th>senderPseudo</th>\n",
       "      <th>messageID</th>\n",
       "      <th>x_pos</th>\n",
       "      <th>y_pos</th>\n",
       "      <th>z_pos</th>\n",
       "      <th>x_pos_noise</th>\n",
       "      <th>y_pos_noise</th>\n",
       "      <th>...</th>\n",
       "      <th>z_acl</th>\n",
       "      <th>x_acl_noise</th>\n",
       "      <th>y_acl_noise</th>\n",
       "      <th>z_acl_noise</th>\n",
       "      <th>x_hed</th>\n",
       "      <th>y_hed</th>\n",
       "      <th>z_hed</th>\n",
       "      <th>hed_noise</th>\n",
       "      <th>hed_noise.1</th>\n",
       "      <th>hed_noise.2</th>\n",
       "    </tr>\n",
       "  </thead>\n",
       "  <tbody>\n",
       "    <tr>\n",
       "      <th>count</th>\n",
       "      <td>196778.0</td>\n",
       "      <td>196778.000000</td>\n",
       "      <td>196778.000000</td>\n",
       "      <td>1.967780e+05</td>\n",
       "      <td>1.967780e+05</td>\n",
       "      <td>196778.000000</td>\n",
       "      <td>196778.000000</td>\n",
       "      <td>196778.0</td>\n",
       "      <td>196778.000000</td>\n",
       "      <td>196778.000000</td>\n",
       "      <td>...</td>\n",
       "      <td>196778.0</td>\n",
       "      <td>196778.000000</td>\n",
       "      <td>196778.000000</td>\n",
       "      <td>196778.0</td>\n",
       "      <td>196778.000000</td>\n",
       "      <td>196778.000000</td>\n",
       "      <td>196778.0</td>\n",
       "      <td>196778.000000</td>\n",
       "      <td>196778.000000</td>\n",
       "      <td>196778.0</td>\n",
       "    </tr>\n",
       "    <tr>\n",
       "      <th>mean</th>\n",
       "      <td>4.0</td>\n",
       "      <td>27193.219969</td>\n",
       "      <td>5639.282450</td>\n",
       "      <td>1.890175e+06</td>\n",
       "      <td>1.416361e+07</td>\n",
       "      <td>615.186773</td>\n",
       "      <td>667.883410</td>\n",
       "      <td>0.0</td>\n",
       "      <td>4.022201</td>\n",
       "      <td>4.023829</td>\n",
       "      <td>...</td>\n",
       "      <td>0.0</td>\n",
       "      <td>0.001003</td>\n",
       "      <td>0.001105</td>\n",
       "      <td>0.0</td>\n",
       "      <td>-0.088279</td>\n",
       "      <td>0.041224</td>\n",
       "      <td>0.0</td>\n",
       "      <td>13.793972</td>\n",
       "      <td>12.862860</td>\n",
       "      <td>0.0</td>\n",
       "    </tr>\n",
       "    <tr>\n",
       "      <th>std</th>\n",
       "      <td>0.0</td>\n",
       "      <td>1023.408165</td>\n",
       "      <td>3185.408859</td>\n",
       "      <td>2.767845e+06</td>\n",
       "      <td>8.517166e+06</td>\n",
       "      <td>383.965966</td>\n",
       "      <td>283.155442</td>\n",
       "      <td>0.0</td>\n",
       "      <td>0.601837</td>\n",
       "      <td>0.603674</td>\n",
       "      <td>...</td>\n",
       "      <td>0.0</td>\n",
       "      <td>0.002787</td>\n",
       "      <td>0.002659</td>\n",
       "      <td>0.0</td>\n",
       "      <td>0.695996</td>\n",
       "      <td>0.711408</td>\n",
       "      <td>0.0</td>\n",
       "      <td>14.410837</td>\n",
       "      <td>13.759887</td>\n",
       "      <td>0.0</td>\n",
       "    </tr>\n",
       "    <tr>\n",
       "      <th>min</th>\n",
       "      <td>4.0</td>\n",
       "      <td>25202.602763</td>\n",
       "      <td>9.000000</td>\n",
       "      <td>1.092000e+03</td>\n",
       "      <td>4.184000e+03</td>\n",
       "      <td>-0.705000</td>\n",
       "      <td>-6.305098</td>\n",
       "      <td>0.0</td>\n",
       "      <td>2.636395</td>\n",
       "      <td>2.674073</td>\n",
       "      <td>...</td>\n",
       "      <td>0.0</td>\n",
       "      <td>0.000000</td>\n",
       "      <td>0.000000</td>\n",
       "      <td>0.0</td>\n",
       "      <td>-1.000000</td>\n",
       "      <td>-1.000000</td>\n",
       "      <td>0.0</td>\n",
       "      <td>0.001283</td>\n",
       "      <td>0.001362</td>\n",
       "      <td>0.0</td>\n",
       "    </tr>\n",
       "    <tr>\n",
       "      <th>25%</th>\n",
       "      <td>4.0</td>\n",
       "      <td>26356.458883</td>\n",
       "      <td>2919.000000</td>\n",
       "      <td>1.029192e+06</td>\n",
       "      <td>6.624777e+06</td>\n",
       "      <td>234.878150</td>\n",
       "      <td>433.356142</td>\n",
       "      <td>0.0</td>\n",
       "      <td>3.503665</td>\n",
       "      <td>3.501938</td>\n",
       "      <td>...</td>\n",
       "      <td>0.0</td>\n",
       "      <td>0.000015</td>\n",
       "      <td>0.000014</td>\n",
       "      <td>0.0</td>\n",
       "      <td>-0.785912</td>\n",
       "      <td>-0.669227</td>\n",
       "      <td>0.0</td>\n",
       "      <td>3.844558</td>\n",
       "      <td>3.698944</td>\n",
       "      <td>0.0</td>\n",
       "    </tr>\n",
       "    <tr>\n",
       "      <th>50%</th>\n",
       "      <td>4.0</td>\n",
       "      <td>27214.873633</td>\n",
       "      <td>5661.000000</td>\n",
       "      <td>1.056612e+06</td>\n",
       "      <td>1.407187e+07</td>\n",
       "      <td>610.502678</td>\n",
       "      <td>724.726483</td>\n",
       "      <td>0.0</td>\n",
       "      <td>4.030809</td>\n",
       "      <td>4.033152</td>\n",
       "      <td>...</td>\n",
       "      <td>0.0</td>\n",
       "      <td>0.000118</td>\n",
       "      <td>0.000125</td>\n",
       "      <td>0.0</td>\n",
       "      <td>-0.066946</td>\n",
       "      <td>0.061860</td>\n",
       "      <td>0.0</td>\n",
       "      <td>9.045490</td>\n",
       "      <td>8.237548</td>\n",
       "      <td>0.0</td>\n",
       "    </tr>\n",
       "    <tr>\n",
       "      <th>75%</th>\n",
       "      <td>4.0</td>\n",
       "      <td>28106.453049</td>\n",
       "      <td>8427.000000</td>\n",
       "      <td>1.084272e+06</td>\n",
       "      <td>2.135810e+07</td>\n",
       "      <td>916.440322</td>\n",
       "      <td>895.947801</td>\n",
       "      <td>0.0</td>\n",
       "      <td>4.528282</td>\n",
       "      <td>4.531677</td>\n",
       "      <td>...</td>\n",
       "      <td>0.0</td>\n",
       "      <td>0.000788</td>\n",
       "      <td>0.001111</td>\n",
       "      <td>0.0</td>\n",
       "      <td>0.583234</td>\n",
       "      <td>0.750887</td>\n",
       "      <td>0.0</td>\n",
       "      <td>18.208400</td>\n",
       "      <td>16.864511</td>\n",
       "      <td>0.0</td>\n",
       "    </tr>\n",
       "    <tr>\n",
       "      <th>max</th>\n",
       "      <td>4.0</td>\n",
       "      <td>28959.499913</td>\n",
       "      <td>11061.000000</td>\n",
       "      <td>1.011061e+07</td>\n",
       "      <td>3.055140e+07</td>\n",
       "      <td>1429.306045</td>\n",
       "      <td>1390.358058</td>\n",
       "      <td>0.0</td>\n",
       "      <td>5.707988</td>\n",
       "      <td>5.592026</td>\n",
       "      <td>...</td>\n",
       "      <td>0.0</td>\n",
       "      <td>0.086891</td>\n",
       "      <td>0.078523</td>\n",
       "      <td>0.0</td>\n",
       "      <td>1.000000</td>\n",
       "      <td>1.000000</td>\n",
       "      <td>0.0</td>\n",
       "      <td>112.978303</td>\n",
       "      <td>103.116687</td>\n",
       "      <td>0.0</td>\n",
       "    </tr>\n",
       "  </tbody>\n",
       "</table>\n",
       "<p>8 rows × 29 columns</p>\n",
       "</div>"
      ],
      "text/plain": [
       "           type       sendTime         sender  senderPseudo     messageID  \\\n",
       "count  196778.0  196778.000000  196778.000000  1.967780e+05  1.967780e+05   \n",
       "mean        4.0   27193.219969    5639.282450  1.890175e+06  1.416361e+07   \n",
       "std         0.0    1023.408165    3185.408859  2.767845e+06  8.517166e+06   \n",
       "min         4.0   25202.602763       9.000000  1.092000e+03  4.184000e+03   \n",
       "25%         4.0   26356.458883    2919.000000  1.029192e+06  6.624777e+06   \n",
       "50%         4.0   27214.873633    5661.000000  1.056612e+06  1.407187e+07   \n",
       "75%         4.0   28106.453049    8427.000000  1.084272e+06  2.135810e+07   \n",
       "max         4.0   28959.499913   11061.000000  1.011061e+07  3.055140e+07   \n",
       "\n",
       "               x_pos          y_pos     z_pos    x_pos_noise    y_pos_noise  \\\n",
       "count  196778.000000  196778.000000  196778.0  196778.000000  196778.000000   \n",
       "mean      615.186773     667.883410       0.0       4.022201       4.023829   \n",
       "std       383.965966     283.155442       0.0       0.601837       0.603674   \n",
       "min        -0.705000      -6.305098       0.0       2.636395       2.674073   \n",
       "25%       234.878150     433.356142       0.0       3.503665       3.501938   \n",
       "50%       610.502678     724.726483       0.0       4.030809       4.033152   \n",
       "75%       916.440322     895.947801       0.0       4.528282       4.531677   \n",
       "max      1429.306045    1390.358058       0.0       5.707988       5.592026   \n",
       "\n",
       "       ...     z_acl    x_acl_noise    y_acl_noise  z_acl_noise  \\\n",
       "count  ...  196778.0  196778.000000  196778.000000     196778.0   \n",
       "mean   ...       0.0       0.001003       0.001105          0.0   \n",
       "std    ...       0.0       0.002787       0.002659          0.0   \n",
       "min    ...       0.0       0.000000       0.000000          0.0   \n",
       "25%    ...       0.0       0.000015       0.000014          0.0   \n",
       "50%    ...       0.0       0.000118       0.000125          0.0   \n",
       "75%    ...       0.0       0.000788       0.001111          0.0   \n",
       "max    ...       0.0       0.086891       0.078523          0.0   \n",
       "\n",
       "               x_hed          y_hed     z_hed      hed_noise    hed_noise.1  \\\n",
       "count  196778.000000  196778.000000  196778.0  196778.000000  196778.000000   \n",
       "mean       -0.088279       0.041224       0.0      13.793972      12.862860   \n",
       "std         0.695996       0.711408       0.0      14.410837      13.759887   \n",
       "min        -1.000000      -1.000000       0.0       0.001283       0.001362   \n",
       "25%        -0.785912      -0.669227       0.0       3.844558       3.698944   \n",
       "50%        -0.066946       0.061860       0.0       9.045490       8.237548   \n",
       "75%         0.583234       0.750887       0.0      18.208400      16.864511   \n",
       "max         1.000000       1.000000       0.0     112.978303     103.116687   \n",
       "\n",
       "       hed_noise.2  \n",
       "count     196778.0  \n",
       "mean           0.0  \n",
       "std            0.0  \n",
       "min            0.0  \n",
       "25%            0.0  \n",
       "50%            0.0  \n",
       "75%            0.0  \n",
       "max            0.0  \n",
       "\n",
       "[8 rows x 29 columns]"
      ]
     },
     "execution_count": 68,
     "metadata": {},
     "output_type": "execute_result"
    }
   ],
   "source": [
    "results.describe() # applying to whole dataFrame: similar report as numeric columns"
   ]
  },
  {
   "cell_type": "markdown",
   "id": "4c931b81",
   "metadata": {},
   "source": [
    "# Data types and column data types"
   ]
  },
  {
   "cell_type": "markdown",
   "id": "0e3d0fa4",
   "metadata": {},
   "source": [
    "Let's spend a minute on data types and column data types. Every column has a data type (abbreviated dtype) that determines what type of values it may contain. Column dtypes can be printed with dtypes:"
   ]
  },
  {
   "cell_type": "code",
   "execution_count": 41,
   "id": "3024fb23",
   "metadata": {},
   "outputs": [
    {
     "data": {
      "text/plain": [
       "type              int64\n",
       "sendTime        float64\n",
       "sender            int64\n",
       "senderPseudo      int64\n",
       "messageID         int64\n",
       "x_pos           float64\n",
       "y_pos           float64\n",
       "z_pos           float64\n",
       "x_pos_noise     float64\n",
       "y_pos_noise     float64\n",
       "z_pos_noise     float64\n",
       "x_spd           float64\n",
       "y_spd           float64\n",
       "z_spd           float64\n",
       "x_spd_noise     float64\n",
       "y_spd_noise     float64\n",
       "z_spd_noise     float64\n",
       "x_acl           float64\n",
       "y_acl           float64\n",
       "z_acl           float64\n",
       "x_acl_noise     float64\n",
       "y_acl_noise     float64\n",
       "z_acl_noise     float64\n",
       "x_hed           float64\n",
       "y_hed           float64\n",
       "z_hed           float64\n",
       "hed_noise       float64\n",
       "hed_noise.1     float64\n",
       "hed_noise.2     float64\n",
       "dtype: object"
      ]
     },
     "execution_count": 41,
     "metadata": {},
     "output_type": "execute_result"
    }
   ],
   "source": [
    "results.dtypes # determines what type of values"
   ]
  },
  {
   "cell_type": "code",
   "execution_count": 75,
   "id": "5c5ca438",
   "metadata": {},
   "outputs": [
    {
     "data": {
      "text/plain": [
       "0         True\n",
       "1         True\n",
       "2         True\n",
       "3         True\n",
       "4         True\n",
       "          ... \n",
       "196773    True\n",
       "196774    True\n",
       "196775    True\n",
       "196776    True\n",
       "196777    True\n",
       "Name: type, Length: 196778, dtype: bool"
      ]
     },
     "execution_count": 75,
     "metadata": {},
     "output_type": "execute_result"
    }
   ],
   "source": [
    "results.type==4 #Conditions can be combined with AND/OR\n"
   ]
  },
  {
   "cell_type": "markdown",
   "id": "38fce4f8",
   "metadata": {},
   "source": [
    "# Filtering over the data frame"
   ]
  },
  {
   "cell_type": "markdown",
   "id": "ae326018",
   "metadata": {},
   "source": [
    "Our data frame contains results from one run. To get some idea what vectors we have, let's print the list unique vector names and module names:"
   ]
  },
  {
   "cell_type": "code",
   "execution_count": 77,
   "id": "019ed08b",
   "metadata": {
    "scrolled": true
   },
   "outputs": [
    {
     "data": {
      "text/html": [
       "<div>\n",
       "<style scoped>\n",
       "    .dataframe tbody tr th:only-of-type {\n",
       "        vertical-align: middle;\n",
       "    }\n",
       "\n",
       "    .dataframe tbody tr th {\n",
       "        vertical-align: top;\n",
       "    }\n",
       "\n",
       "    .dataframe thead th {\n",
       "        text-align: right;\n",
       "    }\n",
       "</style>\n",
       "<table border=\"1\" class=\"dataframe\">\n",
       "  <thead>\n",
       "    <tr style=\"text-align: right;\">\n",
       "      <th></th>\n",
       "      <th>type</th>\n",
       "      <th>sendTime</th>\n",
       "      <th>sender</th>\n",
       "      <th>senderPseudo</th>\n",
       "      <th>messageID</th>\n",
       "      <th>x_pos</th>\n",
       "      <th>y_pos</th>\n",
       "      <th>z_pos</th>\n",
       "      <th>x_pos_noise</th>\n",
       "      <th>y_pos_noise</th>\n",
       "      <th>...</th>\n",
       "      <th>z_acl</th>\n",
       "      <th>x_acl_noise</th>\n",
       "      <th>y_acl_noise</th>\n",
       "      <th>z_acl_noise</th>\n",
       "      <th>x_hed</th>\n",
       "      <th>y_hed</th>\n",
       "      <th>z_hed</th>\n",
       "      <th>hed_noise</th>\n",
       "      <th>hed_noise.1</th>\n",
       "      <th>hed_noise.2</th>\n",
       "    </tr>\n",
       "  </thead>\n",
       "  <tbody>\n",
       "    <tr>\n",
       "      <th>0</th>\n",
       "      <td>4</td>\n",
       "      <td>25202.602763</td>\n",
       "      <td>9</td>\n",
       "      <td>1092</td>\n",
       "      <td>4184</td>\n",
       "      <td>265.244033</td>\n",
       "      <td>50.634354</td>\n",
       "      <td>0.0</td>\n",
       "      <td>3.656680</td>\n",
       "      <td>3.616978</td>\n",
       "      <td>...</td>\n",
       "      <td>0.0</td>\n",
       "      <td>0.000946</td>\n",
       "      <td>0.000946</td>\n",
       "      <td>0.0</td>\n",
       "      <td>-0.102790</td>\n",
       "      <td>0.994703</td>\n",
       "      <td>0.0</td>\n",
       "      <td>7.994259</td>\n",
       "      <td>7.376133</td>\n",
       "      <td>0.0</td>\n",
       "    </tr>\n",
       "    <tr>\n",
       "      <th>1</th>\n",
       "      <td>4</td>\n",
       "      <td>25203.602763</td>\n",
       "      <td>9</td>\n",
       "      <td>1092</td>\n",
       "      <td>4194</td>\n",
       "      <td>264.885167</td>\n",
       "      <td>52.588125</td>\n",
       "      <td>0.0</td>\n",
       "      <td>3.508501</td>\n",
       "      <td>3.429000</td>\n",
       "      <td>...</td>\n",
       "      <td>0.0</td>\n",
       "      <td>0.000071</td>\n",
       "      <td>0.000690</td>\n",
       "      <td>0.0</td>\n",
       "      <td>-0.102790</td>\n",
       "      <td>0.994703</td>\n",
       "      <td>0.0</td>\n",
       "      <td>8.174877</td>\n",
       "      <td>5.941998</td>\n",
       "      <td>0.0</td>\n",
       "    </tr>\n",
       "    <tr>\n",
       "      <th>2</th>\n",
       "      <td>4</td>\n",
       "      <td>25204.602763</td>\n",
       "      <td>9</td>\n",
       "      <td>1092</td>\n",
       "      <td>4204</td>\n",
       "      <td>264.629254</td>\n",
       "      <td>56.495061</td>\n",
       "      <td>0.0</td>\n",
       "      <td>3.469352</td>\n",
       "      <td>3.576584</td>\n",
       "      <td>...</td>\n",
       "      <td>0.0</td>\n",
       "      <td>0.000211</td>\n",
       "      <td>0.002045</td>\n",
       "      <td>0.0</td>\n",
       "      <td>-0.107971</td>\n",
       "      <td>0.994154</td>\n",
       "      <td>0.0</td>\n",
       "      <td>8.360550</td>\n",
       "      <td>4.900224</td>\n",
       "      <td>0.0</td>\n",
       "    </tr>\n",
       "    <tr>\n",
       "      <th>3</th>\n",
       "      <td>4</td>\n",
       "      <td>25205.602763</td>\n",
       "      <td>9</td>\n",
       "      <td>1092</td>\n",
       "      <td>4214</td>\n",
       "      <td>263.961141</td>\n",
       "      <td>62.377989</td>\n",
       "      <td>0.0</td>\n",
       "      <td>3.590258</td>\n",
       "      <td>3.673011</td>\n",
       "      <td>...</td>\n",
       "      <td>0.0</td>\n",
       "      <td>0.000212</td>\n",
       "      <td>0.001824</td>\n",
       "      <td>0.0</td>\n",
       "      <td>-0.129025</td>\n",
       "      <td>0.991641</td>\n",
       "      <td>0.0</td>\n",
       "      <td>8.667087</td>\n",
       "      <td>4.035659</td>\n",
       "      <td>0.0</td>\n",
       "    </tr>\n",
       "    <tr>\n",
       "      <th>4</th>\n",
       "      <td>4</td>\n",
       "      <td>25206.602763</td>\n",
       "      <td>9</td>\n",
       "      <td>1092</td>\n",
       "      <td>4224</td>\n",
       "      <td>265.764984</td>\n",
       "      <td>70.670903</td>\n",
       "      <td>0.0</td>\n",
       "      <td>3.633979</td>\n",
       "      <td>3.377536</td>\n",
       "      <td>...</td>\n",
       "      <td>0.0</td>\n",
       "      <td>0.000341</td>\n",
       "      <td>0.001836</td>\n",
       "      <td>0.0</td>\n",
       "      <td>-0.152295</td>\n",
       "      <td>0.988335</td>\n",
       "      <td>0.0</td>\n",
       "      <td>9.089413</td>\n",
       "      <td>3.294954</td>\n",
       "      <td>0.0</td>\n",
       "    </tr>\n",
       "  </tbody>\n",
       "</table>\n",
       "<p>5 rows × 29 columns</p>\n",
       "</div>"
      ],
      "text/plain": [
       "   type      sendTime  sender  senderPseudo  messageID       x_pos      y_pos  \\\n",
       "0     4  25202.602763       9          1092       4184  265.244033  50.634354   \n",
       "1     4  25203.602763       9          1092       4194  264.885167  52.588125   \n",
       "2     4  25204.602763       9          1092       4204  264.629254  56.495061   \n",
       "3     4  25205.602763       9          1092       4214  263.961141  62.377989   \n",
       "4     4  25206.602763       9          1092       4224  265.764984  70.670903   \n",
       "\n",
       "   z_pos  x_pos_noise  y_pos_noise  ...  z_acl  x_acl_noise  y_acl_noise  \\\n",
       "0    0.0     3.656680     3.616978  ...    0.0     0.000946     0.000946   \n",
       "1    0.0     3.508501     3.429000  ...    0.0     0.000071     0.000690   \n",
       "2    0.0     3.469352     3.576584  ...    0.0     0.000211     0.002045   \n",
       "3    0.0     3.590258     3.673011  ...    0.0     0.000212     0.001824   \n",
       "4    0.0     3.633979     3.377536  ...    0.0     0.000341     0.001836   \n",
       "\n",
       "   z_acl_noise     x_hed     y_hed  z_hed  hed_noise  hed_noise.1  hed_noise.2  \n",
       "0          0.0 -0.102790  0.994703    0.0   7.994259     7.376133          0.0  \n",
       "1          0.0 -0.102790  0.994703    0.0   8.174877     5.941998          0.0  \n",
       "2          0.0 -0.107971  0.994154    0.0   8.360550     4.900224          0.0  \n",
       "3          0.0 -0.129025  0.991641    0.0   8.667087     4.035659          0.0  \n",
       "4          0.0 -0.152295  0.988335    0.0   9.089413     3.294954          0.0  \n",
       "\n",
       "[5 rows x 29 columns]"
      ]
     },
     "execution_count": 77,
     "metadata": {},
     "output_type": "execute_result"
    }
   ],
   "source": [
    "tmp = results[(results.type==4) & (results.sender==9)] #Conditions can be combined with AND/OR\n",
    "tmp.head()"
   ]
  },
  {
   "cell_type": "markdown",
   "id": "8025253d",
   "metadata": {},
   "source": [
    "# Ploting feature of the dataFrame"
   ]
  },
  {
   "cell_type": "markdown",
   "id": "0473b0a7",
   "metadata": {},
   "source": [
    "Since we have our x and y data in separate columns now, we can utilize the scatter plot feature of the data frame for plotting it:"
   ]
  },
  {
   "cell_type": "markdown",
   "id": "b4e71701",
   "metadata": {},
   "source": [
    "A vector can be plotted on a line chart by simply passing the vectime and vecvalue arrays to plt.plot():"
   ]
  },
  {
   "cell_type": "code",
   "execution_count": 90,
   "id": "d2e1bb95",
   "metadata": {},
   "outputs": [
    {
     "data": {
      "image/png": "[encoded data removed]",
      "text/plain": [
       "<Figure size 1152x432 with 1 Axes>"
      ]
     },
     "metadata": {
      "needs_background": "light"
     },
     "output_type": "display_data"
    }
   ],
   "source": [
    "# set the default image resolution and size\n",
    "plt.rcParams['figure.figsize'] = [8.0, 3.0]\n",
    "plt.rcParams['figure.dpi'] = 144\n",
    "# create a scatter plot\n",
    "tmp.plot.scatter('y_pos', 'x_pos')\n",
    "plt.show()"
   ]
  },
  {
   "cell_type": "code",
   "execution_count": 96,
   "id": "88f479b2",
   "metadata": {
    "scrolled": true
   },
   "outputs": [
    {
     "data": {
      "image/png": "[encoded data removed]",
      "text/plain": [
       "<Figure size 1152x432 with 1 Axes>"
      ]
     },
     "metadata": {
      "needs_background": "light"
     },
     "output_type": "display_data"
    }
   ],
   "source": [
    "tmp.plot.line('x_pos', 'y_pos')\n",
    "plt.ylabel('y_pos')\n",
    "plt.show()"
   ]
  },
  {
   "cell_type": "markdown",
   "id": "a156a3e7",
   "metadata": {},
   "source": [
    "Luckily, read_csv() allows us to specify conversion functions for each column. So, armed with the following two short functions:"
   ]
  },
  {
   "cell_type": "code",
   "execution_count": 120,
   "id": "49258575",
   "metadata": {},
   "outputs": [],
   "source": [
    "def parse_if_number(s):\n",
    "    try: return float(s)\n",
    "    except: return True if s==\"true\" else False if s==\"false\" else s if s else None\n",
    "\n",
    "def parse_ndarray(s):\n",
    "    return np.fromstring(s, sep=' ') if s else None"
   ]
  },
  {
   "cell_type": "code",
   "execution_count": 121,
   "id": "c79888bf",
   "metadata": {},
   "outputs": [],
   "source": [
    "routing = pd.read_csv('Sample_data_01.csv', converters = {\n",
    "    'attrvalue': parse_if_number,\n",
    "    'binedges': parse_ndarray,\n",
    "    'binvalues': parse_ndarray,\n",
    "    'vectime': parse_ndarray,\n",
    "    'vecvalue': parse_ndarray})"
   ]
  },
  {
   "cell_type": "code",
   "execution_count": 122,
   "id": "721a8467",
   "metadata": {},
   "outputs": [
    {
     "data": {
      "text/plain": [
       "51"
      ]
     },
     "execution_count": 122,
     "metadata": {},
     "output_type": "execute_result"
    }
   ],
   "source": [
    "vectors = routing[routing.type=='vector']\n",
    "len(vectors)"
   ]
  },
  {
   "cell_type": "code",
   "execution_count": 123,
   "id": "c7e36021",
   "metadata": {
    "scrolled": false
   },
   "outputs": [
    {
     "data": {
      "image/png": "[encoded data removed]",
      "text/plain": [
       "<Figure size 1152x432 with 1 Axes>"
      ]
     },
     "metadata": {
      "needs_background": "light"
     },
     "output_type": "display_data"
    }
   ],
   "source": [
    "vec = vectors[vectors.name == 'qlen:vector'].iloc[4]  # take some vector a print it\n",
    "plt.plot(vec.vectime, vec.vecvalue, drawstyle='steps-post')\n",
    "plt.xlim(0,100)\n",
    "plt.show()"
   ]
  },
  {
   "cell_type": "markdown",
   "id": "58a23468",
   "metadata": {},
   "source": [
    "# Several vectors on the same plot"
   ]
  },
  {
   "cell_type": "markdown",
   "id": "6c73ec3e",
   "metadata": {},
   "source": [
    "When several vectors need to be placed on the same plot, one can simply use a for loop."
   ]
  },
  {
   "cell_type": "code",
   "execution_count": 125,
   "id": "9bfaf6d9",
   "metadata": {},
   "outputs": [
    {
     "data": {
      "image/png": "[encoded data removed]",
      "text/plain": [
       "<Figure size 1152x432 with 1 Axes>"
      ]
     },
     "metadata": {
      "needs_background": "light"
     },
     "output_type": "display_data"
    }
   ],
   "source": [
    "somevectors = vectors[vectors.name == 'qlen:vector'][:5]\n",
    "for row in somevectors.itertuples(): # we can use a for loop to iterate over vector\n",
    "    plt.plot(row.vectime, row.vecvalue, drawstyle='steps-post')\n",
    "plt.title(somevectors.name.values[0])\n",
    "plt.legend(somevectors.module)\n",
    "plt.show()"
   ]
  },
  {
   "cell_type": "code",
   "execution_count": 126,
   "id": "9b5fa398",
   "metadata": {
    "scrolled": true
   },
   "outputs": [
    {
     "data": {
      "text/plain": [
       "array([ 8, 10, 11, 16, 23])"
      ]
     },
     "execution_count": 126,
     "metadata": {},
     "output_type": "execute_result"
    }
   ],
   "source": [
    "x = np.array([8, 2, 1, 5, 7])\n",
    "np.cumsum(x)"
   ]
  },
  {
   "cell_type": "markdown",
   "id": "b5652c7d",
   "metadata": {},
   "source": [
    "# Plotting cumulative sum against time"
   ]
  },
  {
   "cell_type": "markdown",
   "id": "b6557e7a",
   "metadata": {},
   "source": [
    "Plotting cumulative sum against time might be useful e.g. for an output vector where the simulation emits the packet length for each packet that has arrived at its destination. There, the sum would represent \"total bytes received\"."
   ]
  },
  {
   "cell_type": "code",
   "execution_count": 127,
   "id": "dc6aed2f",
   "metadata": {},
   "outputs": [
    {
     "data": {
      "image/png": "[encoded data removed]",
      "text/plain": [
       "<Figure size 1152x432 with 1 Axes>"
      ]
     },
     "metadata": {
      "needs_background": "light"
     },
     "output_type": "display_data"
    }
   ],
   "source": [
    "for row in somevectors.itertuples():\n",
    "    plt.plot(row.vectime, np.cumsum(row.vecvalue))\n",
    "plt.show()"
   ]
  },
  {
   "cell_type": "markdown",
   "id": "7caf8190",
   "metadata": {},
   "source": [
    "Plotting the count against time for the same output vector would represent \"number of packets received\". For such a plot, we can utilize np.arange(1,n) which simply returns the numbers 1, 2, .., n-1 as an array:"
   ]
  },
  {
   "cell_type": "code",
   "execution_count": 135,
   "id": "a90e2bc2",
   "metadata": {},
   "outputs": [
    {
     "data": {
      "image/png": "[encoded data removed]",
      "text/plain": [
       "<Figure size 1152x432 with 1 Axes>"
      ]
     },
     "metadata": {
      "needs_background": "light"
     },
     "output_type": "display_data"
    }
   ],
   "source": [
    "for row in somevectors.itertuples():\n",
    "    plt.plot(row.vectime, np.arange(1, row.vecvalue.size+1), '.-', drawstyle='steps-post')\n",
    "plt.xlim(0,5); plt.ylim(0,20)\n",
    "plt.show()"
   ]
  },
  {
   "cell_type": "markdown",
   "id": "e419746d",
   "metadata": {},
   "source": [
    "Note that we changed the plotting style to \"steps-post\", so that for any t time the plot accurately represents the number of values whose timestamp is less than or equal to t."
   ]
  },
  {
   "cell_type": "markdown",
   "id": "01b0468c",
   "metadata": {},
   "source": [
    "As another warm-up exercise, let's plot the time interval that elapses between adjacent values; that is, for each element we want to plot the time difference between the that element and the previous one. This can be achieved by computing t[1:] - t[:-1], which is the elementwise subtraction of the t array and its shifted version. Array indexing starts at 0, so t[1:] means \"drop the first element\". Negative indices count from the end of the array, so t[:-1] means \"without the last element\". The latter is necessary because the sizes of the two arrays must match. or convenience, we encapsulate the formula into a Python function:\n",
    "\n"
   ]
  },
  {
   "cell_type": "code",
   "execution_count": 129,
   "id": "2b352f9b",
   "metadata": {},
   "outputs": [
    {
     "data": {
      "text/plain": [
       "array([1.4, 0.1, 0.4, 1.1])"
      ]
     },
     "execution_count": 129,
     "metadata": {},
     "output_type": "execute_result"
    }
   ],
   "source": [
    "def diff(t):\n",
    "    return t[1:] - t[:-1]\n",
    "\n",
    "# example\n",
    "t = np.array([0.1, 1.5, 1.6, 2.0, 3.1])\n",
    "diff(t)"
   ]
  },
  {
   "cell_type": "markdown",
   "id": "3be759a2",
   "metadata": {},
   "source": [
    "We can now plot it. Note that as diff() makes the array one element shorter, we need to write row.vectime[1:] to drop the first element (it has no preceding element, so diff() cannot be computed for it.) Also, we use dots for plotting instead of lines, as it makes more sense here."
   ]
  },
  {
   "cell_type": "code",
   "execution_count": 130,
   "id": "416fd7fa",
   "metadata": {},
   "outputs": [
    {
     "data": {
      "image/png": "[encoded data removed]",
      "text/plain": [
       "<Figure size 1152x432 with 1 Axes>"
      ]
     },
     "metadata": {
      "needs_background": "light"
     },
     "output_type": "display_data"
    }
   ],
   "source": [
    "for row in somevectors.itertuples():\n",
    "    plt.plot(row.vectime[1:], diff(row.vectime), 'o')\n",
    "plt.xlim(0,100)\n",
    "plt.show()"
   ]
  },
  {
   "cell_type": "markdown",
   "id": "677b58de",
   "metadata": {},
   "source": [
    "We now know enough NumPy to be able to write a function that computes running average (a.k.a. \"mean filter\"). Let's try it out in a plot immediately.\n"
   ]
  },
  {
   "cell_type": "code",
   "execution_count": 131,
   "id": "2df68162",
   "metadata": {},
   "outputs": [
    {
     "data": {
      "image/png": "[encoded data removed]",
      "text/plain": [
       "<Figure size 1152x432 with 1 Axes>"
      ]
     },
     "metadata": {
      "needs_background": "light"
     },
     "output_type": "display_data"
    }
   ],
   "source": [
    "def running_avg(x):\n",
    "    return np.cumsum(x) / np.arange(1, x.size + 1)\n",
    "\n",
    "# example plot:\n",
    "for row in somevectors.itertuples():\n",
    "    plt.plot(row.vectime, running_avg(row.vecvalue))\n",
    "plt.xlim(0,100)\n",
    "plt.show()"
   ]
  },
  {
   "cell_type": "markdown",
   "id": "886e05ca",
   "metadata": {},
   "source": [
    "For certain quantities such as queue length or on-off status, weighted average (with time intervals used as weights) makes more sense. Here is a function that computes running time-average:"
   ]
  },
  {
   "cell_type": "code",
   "execution_count": 132,
   "id": "d46309a2",
   "metadata": {},
   "outputs": [
    {
     "data": {
      "image/png": "[encoded data removed]",
      "text/plain": [
       "<Figure size 1152x432 with 1 Axes>"
      ]
     },
     "metadata": {
      "needs_background": "light"
     },
     "output_type": "display_data"
    }
   ],
   "source": [
    "def running_timeavg(t,x):\n",
    "    dt = t[1:] - t[:-1]\n",
    "    return np.cumsum(x[:-1] * dt) / t[1:]\n",
    "\n",
    "# example plot:\n",
    "for row in somevectors.itertuples():\n",
    "    plt.plot(row.vectime[1:], running_timeavg(row.vectime, row.vecvalue))\n",
    "plt.xlim(0,100)\n",
    "plt.show()"
   ]
  },
  {
   "cell_type": "markdown",
   "id": "3cabc042",
   "metadata": {},
   "source": [
    "Computing the integral of the vector as a step function is very similar to the running_timeavg() function. (Note: Computing integral in other ways is part of NumPy and SciPy, if you ever need it. For example, np.trapz(y,x) computes integral using the trapezoidal rule.)"
   ]
  },
  {
   "cell_type": "code",
   "execution_count": 133,
   "id": "82e2f373",
   "metadata": {},
   "outputs": [
    {
     "data": {
      "image/png": "[encoded data removed]",
      "text/plain": [
       "<Figure size 1152x432 with 1 Axes>"
      ]
     },
     "metadata": {
      "needs_background": "light"
     },
     "output_type": "display_data"
    }
   ],
   "source": [
    "def integrate_steps(t,x):\n",
    "    dt = t[1:] - t[:-1]\n",
    "    return np.cumsum(x[:-1] * dt)\n",
    "\n",
    "# example plot:\n",
    "for row in somevectors.itertuples():\n",
    "    plt.plot(row.vectime[1:], integrate_steps(row.vectime, row.vecvalue))\n",
    "plt.show()"
   ]
  },
  {
   "cell_type": "markdown",
   "id": "bdce712a",
   "metadata": {},
   "source": [
    "As the last example in this section, here is a function that computes moving window average. It relies on the clever trick of subtracting the cumulative sum of the original vector from its shifted version to get the sum of values in every N-sized window."
   ]
  },
  {
   "cell_type": "code",
   "execution_count": 134,
   "id": "1d68dd0f",
   "metadata": {},
   "outputs": [
    {
     "data": {
      "image/png": "[encoded data removed]",
      "text/plain": [
       "<Figure size 1152x432 with 1 Axes>"
      ]
     },
     "metadata": {
      "needs_background": "light"
     },
     "output_type": "display_data"
    }
   ],
   "source": [
    "def winavg(x, N):\n",
    "    xpad = np.concatenate((np.zeros(N), x)) # pad with zeroes\n",
    "    s = np.cumsum(xpad)\n",
    "    ss = s[N:] - s[:-N]\n",
    "    ss[N-1:] /= N\n",
    "    ss[:N-1] /= np.arange(1, min(N-1,ss.size)+1)\n",
    "    return ss\n",
    "\n",
    "# example:\n",
    "for row in somevectors.itertuples():\n",
    "    plt.plot(row.vectime, winavg(row.vecvalue, 10))\n",
    "plt.xlim(0,200)\n",
    "plt.show()"
   ]
  },
  {
   "cell_type": "markdown",
   "id": "c55d2438",
   "metadata": {},
   "source": [
    "You can find further hints for smoothing the plot of an output vector in the signal processing chapter of the SciPy Cookbook (see References)."
   ]
  },
  {
   "cell_type": "markdown",
   "id": "918d9f7a",
   "metadata": {},
   "source": [
    "# Resources"
   ]
  },
  {
   "cell_type": "markdown",
   "id": "2056272a",
   "metadata": {},
   "source": [
    "The primary and authentic source of information on Pandas, Matplotlib and other libraries is their official documentation. I do not link them here because they are trivial to find via Google. Instead, here is a random collection of other resources that I found useful while writing this tutorial (not counting all the StackOverflow pages I visited.)"
   ]
  },
  {
   "cell_type": "markdown",
   "id": "bc695733",
   "metadata": {},
   "source": [
    "- Pandas tutorial from Greg Reda: http://www.gregreda.com/2013/10/26/working-with-pandas-dataframes/"
   ]
  },
  {
   "cell_type": "markdown",
   "id": "dbf49847",
   "metadata": {},
   "source": [
    "- On reshaping data frames: https://pandas.pydata.org/pandas-docs/stable/reshaping.html#reshaping"
   ]
  },
  {
   "cell_type": "markdown",
   "id": "acc2a2fa",
   "metadata": {},
   "source": [
    "- Matplotlib tutorial of Nicolas P. Rougier: https://www.labri.fr/perso/nrougier/teaching/matplotlib/"
   ]
  },
  {
   "cell_type": "markdown",
   "id": "8f960375",
   "metadata": {},
   "source": [
    "- Creating boxplots with Matplotlib, from Bharat Bhole: http://blog.bharatbhole.com/creating-boxplots-with-matplotlib/\n"
   ]
  },
  {
   "cell_type": "markdown",
   "id": "b3e52d8e",
   "metadata": {},
   "source": [
    "- SciPy Cookbook on signal smoothing: http://scipy-cookbook.readthedocs.io/items/SignalSmooth.html"
   ]
  },
  {
   "cell_type": "markdown",
   "id": "3cd5f71a",
   "metadata": {},
   "source": [
    "- Visual Guide on Pandas (video): https://www.youtube.com/watch?v=9d5-Ti6onew"
   ]
  },
  {
   "cell_type": "markdown",
   "id": "433ca860",
   "metadata": {},
   "source": [
    "- Python Pandas Cookbook (videos): https://www.youtube.com/playlist?list=PLyBBc46Y6aAz54aOUgKXXyTcEmpMisAq3"
   ]
  },
  {
   "cell_type": "code",
   "execution_count": null,
   "id": "2ad34d3f",
   "metadata": {},
   "outputs": [],
   "source": []
  }
 ],
 "metadata": {
  "kernelspec": {
   "display_name": "Python 3",
   "language": "python",
   "name": "python3"
  },
  "language_info": {
   "codemirror_mode": {
    "name": "ipython",
    "version": 3
   },
   "file_extension": ".py",
   "mimetype": "text/x-python",
   "name": "python",
   "nbconvert_exporter": "python",
   "pygments_lexer": "ipython3",
   "version": "3.8.8"
  }
 },
 "nbformat": 4,
 "nbformat_minor": 5
}
